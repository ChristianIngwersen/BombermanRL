{
 "cells": [
  {
   "cell_type": "markdown",
   "metadata": {},
   "source": [
    "# Evolutionary strategies for Pommerman"
   ]
  },
  {
   "cell_type": "markdown",
   "metadata": {},
   "source": [
    "Dependencies below. You need to install the Pommerman environment as well as all the modules in fitness.py, model.py and evolutionarystrategy.py"
   ]
  },
  {
   "cell_type": "code",
   "execution_count": 1,
   "metadata": {
    "collapsed": true
   },
   "outputs": [],
   "source": [
    "from evolutionarystrategy import EvolutionaryStrategy\n",
    "from fitness import Fitness\n",
    "from model import Model\n",
    "import sys\n",
    "import multiprocessing as mp\n",
    "import numpy as np\n",
    "import csv\n",
    "import torch"
   ]
  },
  {
   "cell_type": "markdown",
   "metadata": {},
   "source": [
    "#### Epsilon generating function \n",
    "Do not change."
   ]
  },
  {
   "cell_type": "code",
   "execution_count": 2,
   "metadata": {
    "collapsed": true
   },
   "outputs": [],
   "source": [
    "def generate_epsilon(seed, model):\n",
    "\ttorch.manual_seed(seed)\n",
    "\tepsilon = {}\n",
    "\tfor key, shape in model.shape().items():\n",
    "\t\tif model.params[key].type() == \"torch.FloatTensor\":\n",
    "\t\t\tepsilon[key] = torch.randn(shape).float()\n",
    "\t\telif model.params[key].type() == \"torch.LongTensor\":\n",
    "\t\t\tepsilon[key] = torch.randn(shape).long()\n",
    "\t\telse:\n",
    "\t\t\tepsilon[key] = torch.randn(shape)\n",
    "\n",
    "\treturn epsilon"
   ]
  },
  {
   "cell_type": "markdown",
   "metadata": {},
   "source": [
    "#### Main optimization loop\n",
    "Population size needs to be 30 and range needs to be 10000 for you to replicate our results. However you can run it on your computer with population size = 2 and range(10). We highly recommend to run the python files on a cluster to get the desired performance."
   ]
  },
  {
   "cell_type": "code",
   "execution_count": 3,
   "metadata": {},
   "outputs": [
    {
     "name": "stdout",
     "output_type": "stream",
     "text": [
      "Done with iteration 0\n",
      "Average win rate over 10 games 0.0\n"
     ]
    }
   ],
   "source": [
    "if __name__ == '__main__':\n",
    "\timpact = {\n",
    "\t'imp_team': [0.01],\n",
    "\t'imp_enemies': [0.1,0.1,0.1],\n",
    "\t'imp_powerup': [0.02]\n",
    "\t}\n",
    "\tevo_strat = EvolutionaryStrategy(Model, Fitness, impact, populationsize=2, learning_rate = 0.01)\n",
    "\trewardcsv = open(\"Rewards.csv\", \"w\")  \n",
    "\twinratecsv = open(\"Winrate.csv\", \"w\")\n",
    "\trewardcsv.close()\n",
    "\twinratecsv.close()\n",
    "\tfor i in range(10):\n",
    "\t\tmanager = mp.Manager()\n",
    "\t\toutput = manager.Queue()\n",
    "\t\tprocesses = [mp.Process(target=evo_strat.evolution, args=(x, output)) for x in range(evo_strat.populationsize)]\n",
    "\t\tfor p in processes:\n",
    "\t\t\tp.start()\n",
    "\t\tfor p in processes:\n",
    "\t\t\tp.join()\n",
    "\t\tresults = [output.get() for p in processes]\n",
    "\t\trewards = [r[0] for r in results]\n",
    "\t\tepsilons = []\n",
    "\t\tseed = [epsilons.append(generate_epsilon(r[1], evo_strat.model)) for r in results]\n",
    "\t\tevo_strat.model.update_params(epsilons, rewards, evo_strat.learning_rate)\n",
    "\t\tprint(\"Done with iteration {}\".format(i))\n",
    "\t\tif (i)%10==0:\n",
    "\t\t\twinrate = evo_strat.play_game(10)\n",
    "\t\t\tprint(\"Average win rate over 10 games {}\".format(winrate))\n",
    "\t\t\trewardcsv = open(\"Rewards.csv\", \"a\")  \n",
    "\t\t\twinratecsv = open(\"Winrate.csv\", \"a\")\n",
    "\t\t\twith rewardcsv:\n",
    "\t\t\t\twriter = csv.writer(rewardcsv)\n",
    "\t\t\t\twriter.writerow(rewards)\n",
    "\t\t\twith winratecsv:\n",
    "\t\t\t\twriter = csv.writer(winratecsv)\n",
    "\t\t\t\twriter.writerow([winrate])\n",
    "\t\t\trewardcsv.close()\n",
    "\t\t\twinratecsv.close()\n",
    "\ttorch.save(evo_strat.model.policy.state_dict(),'Model.pt')"
   ]
  }
 ],
 "metadata": {
  "kernelspec": {
   "display_name": "Python 3",
   "language": "python",
   "name": "python3"
  },
  "language_info": {
   "codemirror_mode": {
    "name": "ipython",
    "version": 3
   },
   "file_extension": ".py",
   "mimetype": "text/x-python",
   "name": "python",
   "nbconvert_exporter": "python",
   "pygments_lexer": "ipython3",
   "version": "3.6.5"
  }
 },
 "nbformat": 4,
 "nbformat_minor": 2
}
